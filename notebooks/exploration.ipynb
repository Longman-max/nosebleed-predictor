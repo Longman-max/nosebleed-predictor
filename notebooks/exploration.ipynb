{
 "cells": [
  {
   "cell_type": "code",
   "execution_count": null,
   "id": "6e9b95d0",
   "metadata": {
    "vscode": {
     "languageId": "plaintext"
    }
   },
   "outputs": [],
   "source": [
    "import joblib\n",
    "from sklearn.ensemble import RandomForestClassifier\n",
    "from preprocess import load_data, split_features_labels, train_val_split\n",
    "\n",
    "def train():\n",
    "    df = load_data(\"data/nosebleed_dataset.csv\")\n",
    "    X, y, target = split_features_labels(df)\n",
    "\n",
    "    print(f\"Detected target column: {target}\")\n",
    "\n",
    "    X_train, X_test, y_train, y_test = train_val_split(X, y)\n",
    "\n",
    "    model = RandomForestClassifier(n_estimators=100, random_state=42)\n",
    "    model.fit(X_train, y_train)\n",
    "\n",
    "    joblib.dump(model, \"models/nosebleed_model.pkl\")\n",
    "    print(\"Model training complete. Saved to models/nosebleed_model.pkl\")\n",
    "\n",
    "if __name__ == \"__main__\":\n",
    "    train()"
   ]
  }
 ],
 "metadata": {
  "language_info": {
   "name": "python"
  }
 },
 "nbformat": 4,
 "nbformat_minor": 5
}
